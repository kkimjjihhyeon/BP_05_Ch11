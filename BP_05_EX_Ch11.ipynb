{
  "nbformat": 4,
  "nbformat_minor": 0,
  "metadata": {
    "colab": {
      "provenance": [],
      "authorship_tag": "ABX9TyPAVVeAuqp3DfggYddcOn7P",
      "include_colab_link": true
    },
    "kernelspec": {
      "name": "python3",
      "display_name": "Python 3"
    },
    "language_info": {
      "name": "python"
    }
  },
  "cells": [
    {
      "cell_type": "markdown",
      "metadata": {
        "id": "view-in-github",
        "colab_type": "text"
      },
      "source": [
        "<a href=\"https://colab.research.google.com/github/kkimjjihhyeon/BP_05_Ch11/blob/main/BP_05_EX_Ch11.ipynb\" target=\"_parent\"><img src=\"https://colab.research.google.com/assets/colab-badge.svg\" alt=\"Open In Colab\"/></a>"
      ]
    },
    {
      "cell_type": "code",
      "execution_count": null,
      "metadata": {
        "id": "liBbZMFLnhlY"
      },
      "outputs": [],
      "source": [
        "filename= input(\"파일 이름을 입력하시오: \").strip()\n",
        "infile= open(filename, \"r\", encoding='UTF8')\n",
        "count = 0\n",
        "\n",
        "for line in infile:\n",
        "    for ch in line:\n",
        "        count += 1\n",
        "\n",
        "print(\"파일 안에는 총\", count, \"개의 글자가 있습니다.\")\n",
        "infile.close()"
      ]
    },
    {
      "cell_type": "code",
      "source": [
        "filename = input(\"파일 이름을 입력하세오: \") #파일 경로 입력\n",
        "infile = open(filename,\"r\")\n",
        "read_file = infile.readlines()\n",
        "\n",
        "outfile = open(filename, \"w\")\n",
        "del_word = input(\"삭제할 문자열을 입력하시오: \")#삭제할 문자열 입력\n",
        "\n",
        "for line in read_file: #여러 줄이 있으면 한 줄씩 처리함\n",
        "    l, r = 0, len(del_word)\n",
        "    new_line = \"\" #삭제하지 않아도 되는 문자열을 저장함\n",
        "    while l < len(line): #while문으로 삭제할 단어를 찾아냄\n",
        "        if line[l:r] == del_word: #만약 삭제할 단어가 있을 경우\n",
        "            l += len(del_word)\n",
        "            r += len(del_word)\n",
        "        else: #삭제할 단어가 아닌 경우\n",
        "            new_line += line[l]\n",
        "            l+=1\n",
        "            r+=1\n",
        "    print(new_line, file = outfile, end=\"\") #new_line에 저장한 문자열을 outfile에 작성해줌\n",
        "\n",
        "infile.close()\n",
        "outfile.close()\n",
        "print(\"변경된 파일이 저장되었습니다.\")\n"
      ],
      "metadata": {
        "id": "vos3dgIdnp51"
      },
      "execution_count": null,
      "outputs": []
    },
    {
      "cell_type": "code",
      "source": [
        "filename = input(\"입력 파일 이름: \").strip()\n",
        "infile = open(filename, \"r\")\n",
        "\n",
        "\n",
        "def func(line, counter):\n",
        "    for c in line:\n",
        "        \n",
        "        if c.isalpha():#영문자인지를 판단\n",
        "            if c in counter:\n",
        "                counter[c] = counter[c] + 1# 같은 문자 수를 카운트\n",
        "            else:\n",
        "                counter[c] = 1\n",
        "                \n",
        "dic = { }\n",
        "for line in infile:\n",
        "    \n",
        "    func(line, dic)\n",
        "    \n",
        "    print(dic)\n",
        "\n",
        "infile.close()\n"
      ],
      "metadata": {
        "id": "sdy43CdwWndN"
      },
      "execution_count": null,
      "outputs": []
    },
    {
      "cell_type": "code",
      "source": [
        "import pickle\n",
        "\n",
        "#pickle모듈을 사용해 저장\n",
        "outfile = open(\"test.dat\", \"wb\") #저장장소 설정\n",
        "pickle.dump(12, outfile)\n",
        "pickle.dump(3.14, outfile)\n",
        "pickle.dump([1, 2, 3, 4, 5], outfile)\n",
        "outfile.close()\n",
        "\n",
        "\n",
        "#pickle모듈을 사용해 읽기\n",
        "infile = open(\"test.dat\", \"rb\")#읽을파일 지정\n",
        "print(pickle.load(infile))\n",
        "print(pickle.load(infile))\n",
        "print(pickle.load(infile))\n",
        "infile.close()\n"
      ],
      "metadata": {
        "id": "c0W3vPOWWrOx"
      },
      "execution_count": null,
      "outputs": []
    },
    {
      "cell_type": "code",
      "source": [
        "infilename = input(\"입력 파일 이름: \") #입력 파일 경로 입력\n",
        "outfilename = input(\"출력 파일 이름: \") #작성할 파일 경로 입력\n",
        "\n",
        "infile = open(infilename,\"r\")\n",
        "outfile = open(outfilename,\"w\")\n",
        "ans = 0 # 숫자를 더해줄 변수를 만들었음\n",
        "k = 0 # infile에 있는 숫자가 몇 개나 있는지 확인하는 변수를 만들었음\n",
        "\n",
        "for line in infile:\n",
        "    ans += float(line) #메모장에 적힌 숫자를 더해줌\n",
        "    k += 1 #k에 1을 더해줘서 나중에 평균을 구할 때 사용함\n",
        "\n",
        "#output 메모장에 합계와 평균을 적어줌\n",
        "print(\"합계=\"+str(ans), file = outfile)\n",
        "print(\"평균=\"+str(ans/k), file = outfile)\n",
        "\n",
        "infile.close()\n",
        "outfile.close()\n"
      ],
      "metadata": {
        "id": "5ezASYivWuTo"
      },
      "execution_count": null,
      "outputs": []
    },
    {
      "cell_type": "code",
      "source": [
        "import pickle\n",
        "from tkinter import *\n",
        "\n",
        "\n",
        "phonebook = { }\n",
        "current = 0\n",
        "name = \"\"\n",
        "phone = \"\"\n",
        "\n",
        "\n",
        "window = Tk()\n",
        "\n",
        "\n",
        "frame1 = Frame(window)\n",
        "frame1.pack()\n",
        "Label(frame1, text = \"이름 \").grid(row = 1, column = 1, sticky = W)\n",
        "nameEntry = Entry(frame1, textvariable = name, width = 30)\n",
        "nameEntry.grid(row = 1, column = 2)\n",
        "\n",
        "\n",
        "frame2 = Frame(window)\n",
        "frame2.pack()\n",
        "Label(frame2, text = \"전화번호\").grid(row = 1, column = 1, sticky = W)\n",
        "phoneEntry = Entry(frame2, textvariable = phone, width = 30)\n",
        "phoneEntry.grid(row = 1, column = 2)\n",
        "\n",
        "\n",
        "frame3 = Frame(window)\n",
        "frame3.pack()\n",
        "\n",
        "\n",
        "\n",
        "\n",
        "def save(): \n",
        "    outfile = open(\"phonebook.dat\", \"wb\")\n",
        "    pickle.dump(phonebook, outfile)\n",
        "    print(\"주소들이 파일에 저장되었습니다\")\n",
        "    outfile.close()\n"
      ],
      "metadata": {
        "id": "c-HryVGeWx6x"
      },
      "execution_count": null,
      "outputs": []
    }
  ]
}